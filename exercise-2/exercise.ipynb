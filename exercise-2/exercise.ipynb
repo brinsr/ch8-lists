{
 "cells": [
  {
   "cell_type": "markdown",
   "metadata": {},
   "source": [
    "# Exercise 2\n",
    "Add the specified code for each code cell, running the cells _in order_."
   ]
  },
  {
   "cell_type": "markdown",
   "metadata": {},
   "source": [
    "Define a function **`count_evens()`** that takes in a _list_ of integers and returns the number that are even (divisible by two). You can use the modulo operator **`%`** to get the remainder when dividing by 2 (e.g., `5%2 == 1`).\n",
    "- This problem is adapted from [CodingBat](http://codingbat.com/prob/p189616), and you can also check your work there!"
   ]
  },
  {
   "cell_type": "code",
   "execution_count": null,
   "metadata": {},
   "outputs": [],
   "source": [
    "even_list = []\n",
    "\n",
    "def count_evens(numbers):\n",
    "    for i in numbers:\n",
    "        if (i % 2) == 0:\n",
    "            even_list.append(i)\n",
    "    return even_list    \n",
    "count_evens([2,3,4,5,6,7,8])           \n",
    "        "
   ]
  },
  {
   "cell_type": "markdown",
   "metadata": {},
   "source": [
    "Define a function **`get_even_indices()`** that takes in a _list_ of integers and returns a _list_ containing the indices of the elements with even values."
   ]
  },
  {
   "cell_type": "code",
   "execution_count": null,
   "metadata": {},
   "outputs": [],
   "source": [
    "\n",
    "def get_even_indices(numbers):\n",
    "    indices=[]\n",
    "    \n",
    "    for i in range(len(numbers)):\n",
    "        if((numbers[i] % 2) == 0):\n",
    "            indices.append(i)\n",
    "    return indices\n",
    "get_even_indices([2,3,4,5,6,7,8])"
   ]
  },
  {
   "cell_type": "markdown",
   "metadata": {},
   "source": [
    "Define a function **`rotate_left()`** that takes in a _list_ of elements and \"rotates\" it by moving each element in that list 1 spot to the left, with the first element becoming the last:\n",
    "```python\n",
    "my_list = [1,2,3,4]\n",
    "rotate_left(my_list)\n",
    "print(my_list)  # [2,3,4,1]\n",
    "```\n",
    "For practice, try to do this using a loop (it's more complicated, but good loop/index practice)"
   ]
  },
  {
   "cell_type": "code",
   "execution_count": null,
   "metadata": {},
   "outputs": [],
   "source": [
    "def rotate_left(numbers):\n",
    "    temp = numbers[0]\n",
    "    for i in range(len(numbers) - 1):\n",
    "        numbers[i] = numbers[i + 1]\n",
    "    numbers[-1] = temp\n",
    "    return numbers\n",
    "\n",
    "\n"
   ]
  },
  {
   "cell_type": "markdown",
   "metadata": {},
   "source": [
    "_Challenge_ A [Caesarean Cipher](https://en.wikipedia.org/wiki/Caesar_cipher) is a simple and ancient encryption technique. It works by taking the a string of text and \"rotating\" each letter a fixed number of places down the alphabet. Thus if the \"rotation\" number is \"3\", then a `A` (the 1st letter) would become a `D` (the 4th), a `B` would become a `E`, and a `Z` would wrap around to become a `C`.\n",
    "\n",
    "Define a method `rotate_text()` that takes in two arguments: a string to encrypt and a number of places to shift each letter. The method should return an \"encrypted\" version of the string, with each letter shifted the appropriate amount. Note that this method can also be used to \"decrypt\" text by shifting in the opposite direction (e.g., a negative amount).\n",
    "- You can convert the argument to uppercase for ease of processing, and to a list of letters if you wish to mutate it.\n",
    "- You can create use a string of all the letters (which is itself a sequence with indices) to look up the shifted rotated letters. The [find()](https://docs.python.org/3/library/stdtypes.html#str.find) string method could help."
   ]
  },
  {
   "cell_type": "code",
   "execution_count": 35,
   "metadata": {},
   "outputs": [],
   "source": [
    "def rotate_text(string_to_encrypt,places_to_shift):\n",
    "    alphabet = \"abcdefghijklmnopqrstuvwxyz\"\n",
    "    alphabet_list = list(alphabet) #convert to list to enable manipulation\n",
    "    string_to_encrypt_lst = list(string_to_encrypt)\n",
    "    for i in range(len(string_to_encrypt_lst)):\n",
    "        index = alphabet.find(string_to_encrypt_lst[i])\n",
    "        if ((index + places_to_shift) <= 26):\n",
    "            string_to_encrypt_lst[i] = alphabet_list[index + places_to_shift]\n",
    "        else:    \n",
    "            string_to_encrypt_lst[i] = alphabet_list[(index + places_to_shift) - 26]\n",
    "    return ''.join(string_to_encrypt_lst)\n",
    " \n",
    "    "
   ]
  },
  {
   "cell_type": "code",
   "execution_count": 38,
   "metadata": {},
   "outputs": [
    {
     "data": {
      "text/plain": [
       "'enzyme'"
      ]
     },
     "execution_count": 38,
     "metadata": {},
     "output_type": "execute_result"
    }
   ],
   "source": [
    "rotate_text(\"irdcqi\",-4)\n"
   ]
  },
  {
   "cell_type": "code",
   "execution_count": null,
   "metadata": {},
   "outputs": [],
   "source": []
  },
  {
   "cell_type": "code",
   "execution_count": null,
   "metadata": {},
   "outputs": [],
   "source": []
  },
  {
   "cell_type": "code",
   "execution_count": null,
   "metadata": {},
   "outputs": [],
   "source": []
  }
 ],
 "metadata": {
  "kernelspec": {
   "display_name": "Python 3 (ipykernel)",
   "language": "python",
   "name": "python3"
  },
  "language_info": {
   "codemirror_mode": {
    "name": "ipython",
    "version": 3
   },
   "file_extension": ".py",
   "mimetype": "text/x-python",
   "name": "python",
   "nbconvert_exporter": "python",
   "pygments_lexer": "ipython3",
   "version": "3.9.7"
  },
  "toc": {
   "colors": {
    "hover_highlight": "#DAA520",
    "running_highlight": "#FF0000",
    "selected_highlight": "#FFD700"
   },
   "moveMenuLeft": true,
   "nav_menu": {
    "height": "30px",
    "width": "252px"
   },
   "navigate_menu": true,
   "number_sections": true,
   "sideBar": true,
   "threshold": 4,
   "toc_cell": false,
   "toc_section_display": "block",
   "toc_window_display": false,
   "widenNotebook": false
  }
 },
 "nbformat": 4,
 "nbformat_minor": 2
}
